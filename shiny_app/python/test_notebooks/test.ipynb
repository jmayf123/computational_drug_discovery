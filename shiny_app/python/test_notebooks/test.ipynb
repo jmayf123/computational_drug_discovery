{
 "cells": [
  {
   "cell_type": "code",
   "execution_count": 1,
   "metadata": {},
   "outputs": [],
   "source": [
    "import pandas as pd\n",
    "from padelpy import padeldescriptor"
   ]
  },
  {
   "cell_type": "code",
   "execution_count": 2,
   "metadata": {},
   "outputs": [],
   "source": [
    "def make_ml_df(df3):\n",
    "\n",
    "    df3_selection = df3[['canonical_smiles', 'molecule_chembl_id']]\n",
    "    df3_selection.to_csv('../data/molecule.smi', sep='\\t', index=False, header=False)\n",
    "\n",
    "\n",
    "\n",
    "    fingerprint_output_file = '../data/PubChem.csv' \n",
    "    fingerprint_descriptortypes = '../xml_files/PubchemFingerprinter.xml'\n",
    "\n",
    "    padeldescriptor(mol_dir='../data/molecule.smi', \n",
    "                    d_file=fingerprint_output_file, \n",
    "                    descriptortypes= fingerprint_descriptortypes,\n",
    "                    detectaromaticity=True,\n",
    "                    standardizenitro=True,\n",
    "                    standardizetautomers=True,\n",
    "                    threads=2,\n",
    "                    removesalt=True,\n",
    "                    log=True,\n",
    "                    fingerprints=True)\n",
    "\n",
    "\n",
    "    fingerprints = pd.read_csv(fingerprint_output_file)\n",
    "\n",
    "    df_ml = pd.concat([fingerprints, df3['pIC50']], axis=1).dropna()\n",
    "    \n",
    "    return(df_ml)"
   ]
  },
  {
   "cell_type": "code",
   "execution_count": 3,
   "metadata": {},
   "outputs": [],
   "source": [
    "df3 = pd.read_csv('../data/cleaned_bioactivity_data.csv')"
   ]
  },
  {
   "cell_type": "code",
   "execution_count": 5,
   "metadata": {},
   "outputs": [],
   "source": [
    "df_ml = make_ml_df(df3)"
   ]
  }
 ],
 "metadata": {
  "kernelspec": {
   "display_name": "drug_discovery",
   "language": "python",
   "name": "python3"
  },
  "language_info": {
   "codemirror_mode": {
    "name": "ipython",
    "version": 3
   },
   "file_extension": ".py",
   "mimetype": "text/x-python",
   "name": "python",
   "nbconvert_exporter": "python",
   "pygments_lexer": "ipython3",
   "version": "3.7.15 (default, Nov 24 2022, 18:44:54) [MSC v.1916 64 bit (AMD64)]"
  },
  "orig_nbformat": 4,
  "vscode": {
   "interpreter": {
    "hash": "f5397ffdae00bebf3e8c00ec599892664a4a1c2e9bbb21f6c0e3f6a490a01397"
   }
  }
 },
 "nbformat": 4,
 "nbformat_minor": 2
}
