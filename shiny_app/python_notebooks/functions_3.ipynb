{
 "cells": [
  {
   "cell_type": "code",
   "execution_count": 1,
   "metadata": {},
   "outputs": [],
   "source": [
    "import pandas as pd\n",
    "import glob\n",
    "from padelpy import padeldescriptor"
   ]
  },
  {
   "cell_type": "code",
   "execution_count": 7,
   "metadata": {},
   "outputs": [],
   "source": [
    "df3 = pd.read_csv('data/cleaned_bioactivity_data.csv')\n",
    "df3 = df3[['canonical_smiles', 'molecule_chembl_id']]"
   ]
  },
  {
   "cell_type": "code",
   "execution_count": 8,
   "metadata": {},
   "outputs": [],
   "source": [
    "df3.to_csv('data/molecule.smi', sep='\\t', index=False, header=False)"
   ]
  },
  {
   "cell_type": "code",
   "execution_count": 3,
   "metadata": {},
   "outputs": [],
   "source": [
    "xml_files = glob.glob(\"data/xml_files/*.xml\")\n",
    "xml_files.sort()"
   ]
  },
  {
   "cell_type": "code",
   "execution_count": 4,
   "metadata": {},
   "outputs": [],
   "source": [
    "FP_list = ['AtomPairs2DCount',\n",
    " 'AtomPairs2D',\n",
    " 'EState',\n",
    " 'CDKextended',\n",
    " 'CDK',\n",
    " 'CDKgraphonly',\n",
    " 'KlekotaRothCount',\n",
    " 'KlekotaRoth',\n",
    " 'MACCS',\n",
    " 'PubChem',\n",
    " 'SubstructureCount',\n",
    " 'Substructure']"
   ]
  },
  {
   "cell_type": "code",
   "execution_count": 5,
   "metadata": {},
   "outputs": [],
   "source": [
    "fp = dict(zip(FP_list, xml_files))"
   ]
  },
  {
   "cell_type": "code",
   "execution_count": 9,
   "metadata": {},
   "outputs": [],
   "source": [
    "fingerprint = 'PubChem'\n",
    "\n",
    "fingerprint_output_file = ''.join(['data/PubChem_fingerprints/',fingerprint,'.csv']) #Substructure.csv\n",
    "fingerprint_descriptortypes = fp[fingerprint]\n",
    "\n",
    "padeldescriptor(mol_dir='data/molecule.smi', \n",
    "                d_file=fingerprint_output_file, #'Substructure.csv'\n",
    "                #descriptortypes='SubstructureFingerprint.xml', \n",
    "                descriptortypes= fingerprint_descriptortypes,\n",
    "                detectaromaticity=True,\n",
    "                standardizenitro=True,\n",
    "                standardizetautomers=True,\n",
    "                threads=2,\n",
    "                removesalt=True,\n",
    "                log=True,\n",
    "                fingerprints=True)"
   ]
  },
  {
   "cell_type": "code",
   "execution_count": 10,
   "metadata": {},
   "outputs": [],
   "source": [
    "descriptors = pd.read_csv(fingerprint_output_file)"
   ]
  }
 ],
 "metadata": {
  "kernelspec": {
   "display_name": "drug_discovery",
   "language": "python",
   "name": "python3"
  },
  "language_info": {
   "codemirror_mode": {
    "name": "ipython",
    "version": 3
   },
   "file_extension": ".py",
   "mimetype": "text/x-python",
   "name": "python",
   "nbconvert_exporter": "python",
   "pygments_lexer": "ipython3",
   "version": "3.7.15"
  },
  "orig_nbformat": 4,
  "vscode": {
   "interpreter": {
    "hash": "f5397ffdae00bebf3e8c00ec599892664a4a1c2e9bbb21f6c0e3f6a490a01397"
   }
  }
 },
 "nbformat": 4,
 "nbformat_minor": 2
}
