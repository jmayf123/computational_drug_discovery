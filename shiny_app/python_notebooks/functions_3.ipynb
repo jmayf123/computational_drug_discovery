{
 "cells": [
  {
   "cell_type": "code",
   "execution_count": 3,
   "metadata": {},
   "outputs": [],
   "source": [
    "import wget"
   ]
  },
  {
   "cell_type": "code",
   "execution_count": 4,
   "metadata": {},
   "outputs": [
    {
     "name": "stderr",
     "output_type": "stream",
     "text": [
      "'wget' is not recognized as an internal or external command,\n",
      "operable program or batch file.\n",
      "'wget' is not recognized as an internal or external command,\n",
      "operable program or batch file.\n"
     ]
    }
   ],
   "source": [
    "! wget https://github.com/dataprofessor/bioinformatics/raw/master/padel.zip\n",
    "! wget https://github.com/dataprofessor/bioinformatics/raw/master/padel.sh"
   ]
  }
 ],
 "metadata": {
  "kernelspec": {
   "display_name": "drug_discovery",
   "language": "python",
   "name": "python3"
  },
  "language_info": {
   "codemirror_mode": {
    "name": "ipython",
    "version": 3
   },
   "file_extension": ".py",
   "mimetype": "text/x-python",
   "name": "python",
   "nbconvert_exporter": "python",
   "pygments_lexer": "ipython3",
   "version": "3.7.15"
  },
  "orig_nbformat": 4,
  "vscode": {
   "interpreter": {
    "hash": "f5397ffdae00bebf3e8c00ec599892664a4a1c2e9bbb21f6c0e3f6a490a01397"
   }
  }
 },
 "nbformat": 4,
 "nbformat_minor": 2
}
