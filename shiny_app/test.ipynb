{
 "cells": [
  {
   "cell_type": "code",
   "execution_count": 1,
   "metadata": {},
   "outputs": [],
   "source": [
    "import pandas as pd\n",
    "import numpy as np\n",
    "import seaborn as sns\n",
    "import glob\n",
    "from padelpy import padeldescriptor, from_smiles\n",
    "from sklearn.model_selection import train_test_split\n",
    "from sklearn.ensemble import RandomForestRegressor\n",
    "from sklearn.feature_selection import VarianceThreshold"
   ]
  },
  {
   "cell_type": "code",
   "execution_count": 14,
   "metadata": {},
   "outputs": [],
   "source": [
    "def make_ml_model(df3):\n",
    "\n",
    "    df3_selection = df3[['canonical_smiles', 'molecule_chembl_id']]\n",
    "    df3_selection.to_csv('python_notebooks/data/molecule.smi', sep='\\t', index=False, header=False)\n",
    "\n",
    "    xml_files = glob.glob(\"python_notebooks/data/xml_files/*.xml\")\n",
    "    xml_files.sort()\n",
    "\n",
    "    FP_list = ['AtomPairs2DCount',\n",
    "                'AtomPairs2D',\n",
    "                'EState',\n",
    "                'CDKextended',\n",
    "                'CDK',\n",
    "                'CDKgraphonly',\n",
    "                'KlekotaRothCount',\n",
    "                'KlekotaRoth',\n",
    "                'MACCS',\n",
    "                'PubChem',\n",
    "                'SubstructureCount',\n",
    "                'Substructure']\n",
    "\n",
    "    fp = dict(zip(FP_list, xml_files))\n",
    "\n",
    "    fingerprint = 'PubChem'\n",
    "\n",
    "    fingerprint_output_file = ''.join(['python_notebooks/data/PubChem_fingerprints/',fingerprint,'.csv']) #Substructure.csv\n",
    "    fingerprint_descriptortypes = fp[fingerprint]\n",
    "\n",
    "    padeldescriptor(mol_dir='python_notebooks/data/molecule.smi', \n",
    "                    d_file=fingerprint_output_file, \n",
    "                    descriptortypes= fingerprint_descriptortypes,\n",
    "                    detectaromaticity=True,\n",
    "                    standardizenitro=True,\n",
    "                    standardizetautomers=True,\n",
    "                    threads=2,\n",
    "                    removesalt=True,\n",
    "                    log=True,\n",
    "                    fingerprints=True)\n",
    "\n",
    "    fingerprint = 'PubChem'\n",
    "    fingerprint_output_file = ''.join(['python_notebooks/data/PubChem_fingerprints/',fingerprint,'.csv']) \n",
    "\n",
    "    descriptors = pd.read_csv(fingerprint_output_file)\n",
    "\n",
    "    df_ml = pd.concat([descriptors, df3['pIC50']], axis=1).dropna()\n",
    "\n",
    "    Y = df_ml['pIC50']\n",
    "    X = df_ml.drop(['Name','pIC50'], axis=1)\n",
    "    selection = VarianceThreshold(threshold=(.8 * (1 - .8)))    \n",
    "    X = selection.fit_transform(X)\n",
    "    X_train, X_test, Y_train, Y_test = train_test_split(X, Y, test_size=0.2)\n",
    "    model = RandomForestRegressor(n_estimators=100)\n",
    "    model.fit(X_train, Y_train)\n",
    "    r2 = model.score(X_test, Y_test)\n",
    "\n",
    "    return(model, r2, descriptors)"
   ]
  },
  {
   "cell_type": "code",
   "execution_count": 10,
   "metadata": {},
   "outputs": [],
   "source": [
    "df3 = pd.read_csv('python_notebooks/data/cleaned_bioactivity_data.csv')"
   ]
  },
  {
   "cell_type": "code",
   "execution_count": 15,
   "metadata": {},
   "outputs": [],
   "source": [
    "(RF, r2, descriptors) = make_ml_model(df3)"
   ]
  },
  {
   "cell_type": "code",
   "execution_count": 16,
   "metadata": {},
   "outputs": [],
   "source": [
    "df_ml = pd.concat([descriptors, df3['pIC50']], axis=1).dropna()\n",
    "Y = df_ml['pIC50']\n",
    "X = df_ml.drop(['Name','pIC50'], axis=1)\n",
    "selection = VarianceThreshold(threshold=(.8 * (1 - .8)))    \n",
    "X = selection.fit_transform(X)\n",
    "X_train, X_test, Y_train, Y_test = train_test_split(X, Y, test_size=0.2)"
   ]
  },
  {
   "cell_type": "code",
   "execution_count": 18,
   "metadata": {},
   "outputs": [],
   "source": [
    "pIC50_predicted = RF.predict(X_test)"
   ]
  }
 ],
 "metadata": {
  "kernelspec": {
   "display_name": "drug_discovery",
   "language": "python",
   "name": "python3"
  },
  "language_info": {
   "codemirror_mode": {
    "name": "ipython",
    "version": 3
   },
   "file_extension": ".py",
   "mimetype": "text/x-python",
   "name": "python",
   "nbconvert_exporter": "python",
   "pygments_lexer": "ipython3",
   "version": "3.7.15"
  },
  "orig_nbformat": 4,
  "vscode": {
   "interpreter": {
    "hash": "f5397ffdae00bebf3e8c00ec599892664a4a1c2e9bbb21f6c0e3f6a490a01397"
   }
  }
 },
 "nbformat": 4,
 "nbformat_minor": 2
}
